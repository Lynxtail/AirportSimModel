{
 "cells": [
  {
   "cell_type": "markdown",
   "metadata": {},
   "source": [
    "## Нужные в этом тяжёлом деле (и не очень) библиотеки и модули"
   ]
  },
  {
   "cell_type": "code",
   "execution_count": 42,
   "metadata": {},
   "outputs": [],
   "source": [
    "import numpy as np\n",
    "import random as rd \n",
    "import simpy\n",
    "import pandas as pd\n",
    "import scipy as sp\n",
    "import statsmodels "
   ]
  },
  {
   "cell_type": "markdown",
   "metadata": {},
   "source": [
    "## Генерация случайной величины\n",
    "Экспоненциальное распределение с вводимым параметром lambda"
   ]
  },
  {
   "cell_type": "code",
   "execution_count": 99,
   "metadata": {},
   "outputs": [
    {
     "name": "stdout",
     "output_type": "stream",
     "text": [
      "-0.036357505624914355\n",
      "9.309268311370472\n"
     ]
    }
   ],
   "source": [
    "lambda_ = float(input())\n",
    "print(np.log(rd.random()) / lambda_)\n",
    "print(rd.expovariate(1.0 / 4))"
   ]
  },
  {
   "cell_type": "markdown",
   "metadata": {},
   "source": [
    "## Простой процесс на simpy"
   ]
  },
  {
   "cell_type": "code",
   "execution_count": null,
   "metadata": {},
   "outputs": [
    {
     "name": "stdout",
     "output_type": "stream",
     "text": [
      "Start parking at 0\n",
      "Start driving at 5\n",
      "Start parking at 7\n",
      "Start driving at 12\n",
      "Start parking at 14\n"
     ]
    }
   ],
   "source": [
    "def car(env):\n",
    "    while True:\n",
    "        print(f'Start parking at {env.now}')\n",
    "        parking_duration = 5\n",
    "        yield env.timeout(parking_duration)\n",
    "\n",
    "        print(f'Start driving at {env.now}')\n",
    "        trip_duration = 2\n",
    "        yield env.timeout(trip_duration)\n",
    "\n",
    "env = simpy.Environment()\n",
    "env.process(car(env))\n",
    "env.run(until=15)"
   ]
  },
  {
   "cell_type": "markdown",
   "metadata": {},
   "source": [
    "## Запуск подпроцесса charge после парковки"
   ]
  },
  {
   "cell_type": "code",
   "execution_count": null,
   "metadata": {},
   "outputs": [
    {
     "name": "stdout",
     "output_type": "stream",
     "text": [
      "2391380788896 Start parking and charging at 0\n",
      "2391380787648 Start parking and charging at 0\n",
      "2391380788896 Start driving at 5\n",
      "2391380787648 Start driving at 5\n",
      "2391380788896 Start parking and charging at 7\n",
      "2391380787648 Start parking and charging at 7\n",
      "2391380788896 Start driving at 12\n",
      "2391380787648 Start driving at 12\n",
      "2391380788896 Start parking and charging at 14\n",
      "2391380787648 Start parking and charging at 14\n"
     ]
    }
   ],
   "source": [
    "class Car(object):\n",
    "    def __init__(self, env):\n",
    "        self.env = env\n",
    "        # Start the run process everytime an instance is created.\n",
    "        self.action = env.process(self.run())\n",
    "\n",
    "    def run(self):\n",
    "        while True:\n",
    "            print(f'{id(self)} Start parking and charging at {self.env.now}')\n",
    "            charge_duration = 5\n",
    "            # We yield the process that process() returns\n",
    "            # to wait for it to finish\n",
    "            yield self.env.process(self.charge(charge_duration))\n",
    "\n",
    "            # The charge process has finished and\n",
    "            # we can start driving again.\n",
    "            print(f'{id(self)} Start driving at {self.env.now}')\n",
    "            trip_duration = 2\n",
    "            yield self.env.timeout(trip_duration)\n",
    "\n",
    "    def charge(self, duration):\n",
    "        yield self.env.timeout(duration)\n",
    "\n",
    "env = simpy.Environment()\n",
    "car_1 = Car(env)\n",
    "car_2 = Car(env)\n",
    "env.run(until=15)"
   ]
  },
  {
   "cell_type": "markdown",
   "metadata": {},
   "source": [
    "## Прерывание другого процесса"
   ]
  },
  {
   "cell_type": "code",
   "execution_count": null,
   "metadata": {},
   "outputs": [
    {
     "name": "stdout",
     "output_type": "stream",
     "text": [
      "2390860442352 Start parking and charging at 0\n",
      "2391144724560 Start parking and charging at 0\n",
      "2390860442352 Was interrupted. Hope, the battery is full enough ...\n",
      "2390860442352 Start driving at 3\n",
      "2390860442352 Start parking and charging at 5\n",
      "2391144724560 Start driving at 5\n",
      "2391144724560 Start parking and charging at 7\n",
      "2390860442352 Start driving at 10\n",
      "2390860442352 Start parking and charging at 12\n",
      "2391144724560 Start driving at 12\n",
      "2391144724560 Start parking and charging at 14\n"
     ]
    }
   ],
   "source": [
    "class Car(object):\n",
    "    def __init__(self, env):\n",
    "        self.env = env\n",
    "        # Start the run process everytime an instance is created.\n",
    "        self.action = env.process(self.run())\n",
    "\n",
    "    def run(self):\n",
    "        while True:\n",
    "            print(f'{id(self)} Start parking and charging at {self.env.now}')\n",
    "            charge_duration = 5\n",
    "            # We may get interrupted while charging the battery\n",
    "            try:\n",
    "                yield self.env.process(self.charge(charge_duration))\n",
    "            except simpy.Interrupt:\n",
    "                # When we received an interrupt, we stop charging and\n",
    "                # switch to the \"driving\" state\n",
    "                print(f'{id(self)} Was interrupted. Hope, the battery is full enough ...')\n",
    "\n",
    "            # The charge process has finished and\n",
    "            # we can start driving again.\n",
    "            print(f'{id(self)} Start driving at {self.env.now}')\n",
    "            trip_duration = 2\n",
    "            yield self.env.timeout(trip_duration)\n",
    "\n",
    "    def charge(self, duration):\n",
    "        yield self.env.timeout(duration)\n",
    "\n",
    "\n",
    "def driver(env, car):\n",
    "    yield env.timeout(3)\n",
    "    car.action.interrupt()\n",
    "\n",
    "env = simpy.Environment()\n",
    "car_1 = Car(env)\n",
    "car_2 = Car(env)\n",
    "env.process(driver(env, car_1))\n",
    "env.run(until=15)"
   ]
  },
  {
   "cell_type": "markdown",
   "metadata": {},
   "source": [
    "## Использование ресурсов\n",
    "Добавляется устройство обслуживания с ёмкостью 2.\n",
    "Машины 1 и 2 начинают обслуживаться сразу же по прибытии, а 3 и 4 ожидают освобождения слотов для обслуживания."
   ]
  },
  {
   "cell_type": "code",
   "execution_count": 44,
   "metadata": {},
   "outputs": [
    {
     "name": "stdout",
     "output_type": "stream",
     "text": [
      "Car 1 arriving at 0\n",
      "Car 1 starting to charge at 0\n",
      "Car 2 arriving at 2\n",
      "Car 2 starting to charge at 2\n",
      "Car 3 arriving at 4\n",
      "Car 1 leaving the bcs at 5\n",
      "Car 3 starting to charge at 5\n",
      "Car 4 arriving at 6\n",
      "Car 2 leaving the bcs at 7\n",
      "Car 4 starting to charge at 7\n",
      "Car 3 leaving the bcs at 10\n",
      "Car 4 leaving the bcs at 12\n"
     ]
    }
   ],
   "source": [
    "def car(env, name, bcs, driving_time, charge_duration):\n",
    "    # Simulate driving to the BCS\n",
    "    yield env.timeout(driving_time)\n",
    "    # Request one of its charging spots\n",
    "    print(f'{name} arriving at {env.now}')\n",
    "    with bcs.request() as req:\n",
    "        yield req\n",
    "        # Charge the battery\n",
    "        print(f'{name} starting to charge at {env.now}')\n",
    "        yield env.timeout(charge_duration)\n",
    "        print(f'{name} leaving the bcs at {env.now}')\n",
    "\n",
    "env = simpy.Environment()\n",
    "bcs = simpy.Resource(env, capacity=2)\n",
    "for i in range(4):\n",
    "    env.process(car(env, f'Car {i+1}', bcs, i*2, 5))\n",
    "env.run()"
   ]
  },
  {
   "cell_type": "markdown",
   "metadata": {},
   "source": [
    "## Пример с банком\n",
    "В банке есть сотрудники, обслуживающие клиентов, и терминалы, выдающие талоны. Есть, соответственно два процесса: выдача талона и обслуживание клиента. "
   ]
  },
  {
   "cell_type": "code",
   "execution_count": 50,
   "metadata": {},
   "outputs": [],
   "source": [
    "class Bank(object):\n",
    "    def __init__(self, env, num_employee, num_terminal):\n",
    "        self.env = env\n",
    "        self.employee = simpy.Resource(env, num_employee)\n",
    "        self.terminal = simpy.Resource(env, num_terminal)\n",
    "\n",
    "    def service(self, customer):\n",
    "    # Обслуживание занимает время в интервале от 1 до 15 минут\n",
    "        yield self.env.timeout(rd.randint(1, 15))\n",
    "\n",
    "    def take_token(self, customer):\n",
    "    # Получение талона занимает до 45 секунд\n",
    "        yield self.env.timeout(45/60)"
   ]
  },
  {
   "cell_type": "markdown",
   "metadata": {},
   "source": [
    "Создадим функцию, которая будет отвечать за поведение клиента в среде:"
   ]
  },
  {
   "cell_type": "code",
   "execution_count": 51,
   "metadata": {},
   "outputs": [],
   "source": [
    "def go_to_bank(env, customer, bank):\n",
    "\t# Клиент пришел в банк\n",
    "\tarrival_time = env.now\n",
    "\t\n",
    "\twith bank.terminal.request() as request:\n",
    "\t\tyield request\n",
    "\t\tyield env.process(bank.take_token(customer))\n",
    "\n",
    "\twith bank.employee.request() as request:\n",
    "\t\tyield request\n",
    "\t\tyield env.process(bank.service(customer))\n",
    "\n",
    "\tglobal times\n",
    "\ttimes.append(env.now - arrival_time)"
   ]
  },
  {
   "cell_type": "markdown",
   "metadata": {},
   "source": [
    "Теперь необходимо создать функцию для запуска моделирования. Она будет отвечать за создание экземпляра банка и генерацию клиентов, до тех пор, пока симуляция не остановится:"
   ]
  },
  {
   "cell_type": "code",
   "execution_count": 52,
   "metadata": {},
   "outputs": [],
   "source": [
    "def run_bank(env, num_employee, num_terminal):\n",
    "\tbank = Bank(env, num_employee, num_terminal)\n",
    "\tcustomer = 1\n",
    "\t\n",
    "\tenv.process(go_to_bank(env, customer, bank))\n",
    "\t\n",
    "\twhile True:\n",
    "\t\t# Предположим каждые 4 минуты заходит новый клиент\n",
    "\t\tyield env.timeout(rd.expovariate(1.0 / 240))\n",
    "\t\tcustomer += 1\n",
    "\t\tenv.process(go_to_bank(env, customer, bank))"
   ]
  },
  {
   "cell_type": "markdown",
   "metadata": {},
   "source": [
    "Отдельно создадим функцию для подсчета среднего времени:"
   ]
  },
  {
   "cell_type": "code",
   "execution_count": 53,
   "metadata": {},
   "outputs": [],
   "source": [
    "def get_average_time(times):\n",
    "\taverage_time = np.mean(times)\n",
    "\tminutes, frac_minutes = divmod(average_time, 1)\n",
    "\tseconds = frac_minutes * 60\n",
    "\treturn round(minutes), round(seconds)"
   ]
  },
  {
   "cell_type": "markdown",
   "metadata": {},
   "source": [
    "Запустим моделирование:"
   ]
  },
  {
   "cell_type": "code",
   "execution_count": 54,
   "metadata": {},
   "outputs": [
    {
     "name": "stdout",
     "output_type": "stream",
     "text": [
      "\n",
      "Среднее время обслуживания: 1:45\n"
     ]
    }
   ],
   "source": [
    "rd.seed(42)\n",
    "# Начальные данные\n",
    "num_employee = 7 # В офисе работает 7 сотрудников\n",
    "num_terminal = 1 # В офисе 1 терминал по выдаче талонов\n",
    "times = []\n",
    "\n",
    "# Запуск моделирования\n",
    "env = simpy.Environment()\n",
    "env.process(run_bank(env, num_employee, num_terminal))\n",
    "env.run(until=72)\n",
    "\n",
    "# Результаты\n",
    "mins, secs = get_average_time(times)\n",
    "print(f'\\nСреднее время обслуживания: {mins}:{secs}')"
   ]
  },
  {
   "cell_type": "markdown",
   "metadata": {},
   "source": [
    "## СМО M/M/1"
   ]
  },
  {
   "cell_type": "code",
   "execution_count": 100,
   "metadata": {},
   "outputs": [],
   "source": [
    "class System(object):\n",
    "    def __init__(self, env, num_services):\n",
    "        self.env = env\n",
    "        self.server = simpy.Resource(env, num_services)\n",
    "\n",
    "    def service(self, demand):\n",
    "        yield self.env.timeout(rd.expovariate(1.0 / 2))\n",
    "        print(f'Требование {id(demand)} обслужено в {self.env.now}')"
   ]
  },
  {
   "cell_type": "code",
   "execution_count": 101,
   "metadata": {},
   "outputs": [],
   "source": [
    "def go_to_system(env, demand, system):\n",
    "\t# требование пришло в систему\n",
    "\tarrival_time = env.now\n",
    "\t\n",
    "\twith system.server.request() as request:\n",
    "\t\tyield request\n",
    "\t\tyield env.process(system.service(demand))\n",
    "\n",
    "\tglobal times\n",
    "\ttimes.append(env.now - arrival_time)"
   ]
  },
  {
   "cell_type": "code",
   "execution_count": 102,
   "metadata": {},
   "outputs": [],
   "source": [
    "def run_system(env, num_services):\n",
    "\tsystem = System(env, num_services)\n",
    "\tdemand = 1\n",
    "\tprint(f'Требование {id(demand)} поступило в {env.now}')\n",
    "\tenv.process(go_to_system(env, demand, system))\n",
    "\t\n",
    "\twhile True:\n",
    "\t\tyield env.timeout(rd.expovariate(1.0 / 1))\n",
    "\t\tdemand += 1\n",
    "\t\tprint(f'Требование {id(demand)} поступило в {env.now}')\n",
    "\t\tenv.process(go_to_system(env, demand, system))"
   ]
  },
  {
   "cell_type": "code",
   "execution_count": 103,
   "metadata": {},
   "outputs": [],
   "source": [
    "def get_average_time(times):\n",
    "\taverage_time = np.mean(times)\n",
    "\tminutes, frac_minutes = divmod(average_time, 1)\n",
    "\tseconds = frac_minutes * 60\n",
    "\treturn round(minutes), round(seconds)"
   ]
  },
  {
   "cell_type": "code",
   "execution_count": 104,
   "metadata": {},
   "outputs": [
    {
     "name": "stdout",
     "output_type": "stream",
     "text": [
      "Требование 2390807570736 поступило в 0\n",
      "Требование 2390807570736 обслужено в 0.004315409044931036\n",
      "Требование 2390807570768 поступило в 0.17988906338818464\n",
      "Требование 2390807570800 поступило в 0.6748770302159032\n",
      "Требование 2390807570800 обслужено в 1.3465197682302805\n",
      "Требование 2390807570832 поступило в 2.212596121647633\n",
      "Требование 2390807570864 поступило в 3.4052713301528024\n",
      "Требование 2390807570832 обслужено в 4.835009360642372\n",
      "Требование 2390807570896 поступило в 4.934796674847141\n",
      "Требование 2390807570768 обслужено в 5.4013206669238745\n",
      "Требование 2390807570928 поступило в 5.601635790614894\n",
      "Требование 2390807570896 обслужено в 5.8225105658663985\n",
      "Требование 2390807570960 поступило в 5.847153919333314\n",
      "Требование 2390807570928 обслужено в 5.943036935667164\n",
      "Требование 2390807570960 обслужено в 6.068826167664431\n",
      "\n",
      "Среднее время обслуживания: 1:25\n"
     ]
    }
   ],
   "source": [
    "# Начальные данные\n",
    "num_services = 2 \n",
    "times = []\n",
    "\n",
    "# Запуск моделирования\n",
    "env = simpy.Environment()\n",
    "env.process(run_system(env, num_services))\n",
    "env.run(until=7)\n",
    "\n",
    "# Результаты\n",
    "mins, secs = get_average_time(times)\n",
    "print(f'\\nСреднее время обслуживания: {mins}:{secs}')"
   ]
  },
  {
   "cell_type": "code",
   "execution_count": null,
   "metadata": {},
   "outputs": [],
   "source": []
  }
 ],
 "metadata": {
  "interpreter": {
   "hash": "dcacb0086e9a4f4eabd41c33bf4faac5ea0a3337ed3f5eff0680afa930572c04"
  },
  "kernelspec": {
   "display_name": "Python 3.9.7 64-bit",
   "language": "python",
   "name": "python3"
  },
  "language_info": {
   "codemirror_mode": {
    "name": "ipython",
    "version": 3
   },
   "file_extension": ".py",
   "mimetype": "text/x-python",
   "name": "python",
   "nbconvert_exporter": "python",
   "pygments_lexer": "ipython3",
   "version": "3.9.7"
  },
  "orig_nbformat": 4
 },
 "nbformat": 4,
 "nbformat_minor": 2
}
