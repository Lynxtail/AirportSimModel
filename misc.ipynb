{
 "cells": [
  {
   "cell_type": "markdown",
   "metadata": {},
   "source": [
    "## Нужные в этом тяжёлом деле (и не очень) библиотеки и модули"
   ]
  },
  {
   "cell_type": "code",
   "execution_count": 1,
   "metadata": {},
   "outputs": [],
   "source": [
    "import numpy as np\n",
    "import random as rd \n",
    "import simpy\n",
    "import pandas as pd\n",
    "import scipy as sp\n",
    "import statsmodels "
   ]
  },
  {
   "cell_type": "markdown",
   "metadata": {},
   "source": [
    "## Генерация случайной величины\n",
    "Экспоненциальное распределение с вводимым параметром lambda"
   ]
  },
  {
   "cell_type": "code",
   "execution_count": 3,
   "metadata": {},
   "outputs": [
    {
     "name": "stdout",
     "output_type": "stream",
     "text": [
      "-1.0092754168692466\n"
     ]
    }
   ],
   "source": [
    "lambda_ = float(input())\n",
    "print(np.log(rd.random()) / lambda_)"
   ]
  },
  {
   "cell_type": "markdown",
   "metadata": {},
   "source": [
    "## Простой процесс на simpy"
   ]
  },
  {
   "cell_type": "code",
   "execution_count": 4,
   "metadata": {},
   "outputs": [
    {
     "name": "stdout",
     "output_type": "stream",
     "text": [
      "Start parking at 0\n",
      "Start driving at 5\n",
      "Start parking at 7\n",
      "Start driving at 12\n",
      "Start parking at 14\n"
     ]
    }
   ],
   "source": [
    "def car(env):\n",
    "    while True:\n",
    "        print(f'Start parking at {env.now}')\n",
    "        parking_duration = 5\n",
    "        yield env.timeout(parking_duration)\n",
    "\n",
    "        print(f'Start driving at {env.now}')\n",
    "        trip_duration = 2\n",
    "        yield env.timeout(trip_duration)\n",
    "\n",
    "env = simpy.Environment()\n",
    "env.process(car(env))\n",
    "env.run(until=15)"
   ]
  },
  {
   "cell_type": "markdown",
   "metadata": {},
   "source": [
    "## Запуск подпроцесса charge после парковки"
   ]
  },
  {
   "cell_type": "code",
   "execution_count": 7,
   "metadata": {},
   "outputs": [
    {
     "name": "stdout",
     "output_type": "stream",
     "text": [
      "2391380788896 Start parking and charging at 0\n",
      "2391380787648 Start parking and charging at 0\n",
      "2391380788896 Start driving at 5\n",
      "2391380787648 Start driving at 5\n",
      "2391380788896 Start parking and charging at 7\n",
      "2391380787648 Start parking and charging at 7\n",
      "2391380788896 Start driving at 12\n",
      "2391380787648 Start driving at 12\n",
      "2391380788896 Start parking and charging at 14\n",
      "2391380787648 Start parking and charging at 14\n"
     ]
    }
   ],
   "source": [
    "class Car(object):\n",
    "    def __init__(self, env):\n",
    "        self.env = env\n",
    "        # Start the run process everytime an instance is created.\n",
    "        self.action = env.process(self.run())\n",
    "\n",
    "    def run(self):\n",
    "        while True:\n",
    "            print(f'{id(self)} Start parking and charging at {self.env.now}')\n",
    "            charge_duration = 5\n",
    "            # We yield the process that process() returns\n",
    "            # to wait for it to finish\n",
    "            yield self.env.process(self.charge(charge_duration))\n",
    "\n",
    "            # The charge process has finished and\n",
    "            # we can start driving again.\n",
    "            print(f'{id(self)} Start driving at {self.env.now}')\n",
    "            trip_duration = 2\n",
    "            yield self.env.timeout(trip_duration)\n",
    "\n",
    "    def charge(self, duration):\n",
    "        yield self.env.timeout(duration)\n",
    "\n",
    "env = simpy.Environment()\n",
    "car_1 = Car(env)\n",
    "car_2 = Car(env)\n",
    "env.run(until=15)"
   ]
  },
  {
   "cell_type": "markdown",
   "metadata": {},
   "source": [
    "## Прерывание другого процесса"
   ]
  },
  {
   "cell_type": "code",
   "execution_count": 10,
   "metadata": {},
   "outputs": [
    {
     "name": "stdout",
     "output_type": "stream",
     "text": [
      "2390860442352 Start parking and charging at 0\n",
      "2391144724560 Start parking and charging at 0\n",
      "2390860442352 Was interrupted. Hope, the battery is full enough ...\n",
      "2390860442352 Start driving at 3\n",
      "2390860442352 Start parking and charging at 5\n",
      "2391144724560 Start driving at 5\n",
      "2391144724560 Start parking and charging at 7\n",
      "2390860442352 Start driving at 10\n",
      "2390860442352 Start parking and charging at 12\n",
      "2391144724560 Start driving at 12\n",
      "2391144724560 Start parking and charging at 14\n"
     ]
    }
   ],
   "source": [
    "class Car(object):\n",
    "    def __init__(self, env):\n",
    "        self.env = env\n",
    "        # Start the run process everytime an instance is created.\n",
    "        self.action = env.process(self.run())\n",
    "\n",
    "    def run(self):\n",
    "        while True:\n",
    "            print(f'{id(self)} Start parking and charging at {self.env.now}')\n",
    "            charge_duration = 5\n",
    "            # We may get interrupted while charging the battery\n",
    "            try:\n",
    "                yield self.env.process(self.charge(charge_duration))\n",
    "            except simpy.Interrupt:\n",
    "                # When we received an interrupt, we stop charging and\n",
    "                # switch to the \"driving\" state\n",
    "                print(f'{id(self)} Was interrupted. Hope, the battery is full enough ...')\n",
    "\n",
    "            # The charge process has finished and\n",
    "            # we can start driving again.\n",
    "            print(f'{id(self)} Start driving at {self.env.now}')\n",
    "            trip_duration = 2\n",
    "            yield self.env.timeout(trip_duration)\n",
    "\n",
    "    def charge(self, duration):\n",
    "        yield self.env.timeout(duration)\n",
    "\n",
    "\n",
    "def driver(env, car):\n",
    "    yield env.timeout(3)\n",
    "    car.action.interrupt()\n",
    "\n",
    "env = simpy.Environment()\n",
    "car_1 = Car(env)\n",
    "car_2 = Car(env)\n",
    "env.process(driver(env, car_1))\n",
    "env.run(until=15)"
   ]
  },
  {
   "cell_type": "markdown",
   "metadata": {},
   "source": [
    "## Использование ресурсов\n",
    "Добавляется устройство обслуживания с ёмкостью 2.\n",
    "Машины 1 и 2 начинают обслуживаться сразу же по прибытии, а 3 и 4 ожидают освобождения слотов для обслуживания."
   ]
  },
  {
   "cell_type": "code",
   "execution_count": 11,
   "metadata": {},
   "outputs": [
    {
     "name": "stdout",
     "output_type": "stream",
     "text": [
      "Car 1 arriving at 0\n",
      "Car 1 starting to charge at 0\n",
      "Car 2 arriving at 2\n",
      "Car 2 starting to charge at 2\n",
      "Car 3 arriving at 4\n",
      "Car 1 leaving the bcs at 5\n",
      "Car 3 starting to charge at 5\n",
      "Car 4 arriving at 6\n",
      "Car 2 leaving the bcs at 7\n",
      "Car 4 starting to charge at 7\n",
      "Car 3 leaving the bcs at 10\n",
      "Car 4 leaving the bcs at 12\n"
     ]
    }
   ],
   "source": [
    "def car(env, name, bcs, driving_time, charge_duration):\n",
    "    # Simulate driving to the BCS\n",
    "    yield env.timeout(driving_time)\n",
    "    # Request one of its charging spots\n",
    "    print(f'{name} arriving at {env.now}')\n",
    "    with bcs.request() as req:\n",
    "        yield req\n",
    "        # Charge the battery\n",
    "        print(f'{name} starting to charge at {env.now}')\n",
    "        yield env.timeout(charge_duration)\n",
    "        print(f'{name} leaving the bcs at {env.now}')\n",
    "\n",
    "env = simpy.Environment()\n",
    "bcs = simpy.Resource(env, capacity=2)\n",
    "for i in range(4):\n",
    "    env.process(car(env, f'Car {i+1}', bcs, i*2, 5))\n",
    "env.run()"
   ]
  },
  {
   "cell_type": "code",
   "execution_count": null,
   "metadata": {},
   "outputs": [],
   "source": []
  }
 ],
 "metadata": {
  "interpreter": {
   "hash": "dcacb0086e9a4f4eabd41c33bf4faac5ea0a3337ed3f5eff0680afa930572c04"
  },
  "kernelspec": {
   "display_name": "Python 3.9.7 64-bit",
   "language": "python",
   "name": "python3"
  },
  "language_info": {
   "codemirror_mode": {
    "name": "ipython",
    "version": 3
   },
   "file_extension": ".py",
   "mimetype": "text/x-python",
   "name": "python",
   "nbconvert_exporter": "python",
   "pygments_lexer": "ipython3",
   "version": "3.9.7"
  },
  "orig_nbformat": 4
 },
 "nbformat": 4,
 "nbformat_minor": 2
}
