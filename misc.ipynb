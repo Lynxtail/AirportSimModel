{
 "cells": [
  {
   "cell_type": "markdown",
   "metadata": {},
   "source": [
    "## Нужные в этом тяжёлом деле (и не очень) библиотеки и модули"
   ]
  },
  {
   "cell_type": "code",
   "execution_count": 39,
   "metadata": {},
   "outputs": [],
   "source": [
    "import numpy as np\n",
    "import random as rd \n",
    "import simpy\n",
    "import pandas as pd\n",
    "import scipy as sp\n",
    "import statsmodels \n",
    "import math"
   ]
  },
  {
   "cell_type": "markdown",
   "metadata": {},
   "source": [
    "## Генерация случайной величины\n",
    "Экспоненциальное распределение с вводимым параметром lambda"
   ]
  },
  {
   "cell_type": "code",
   "execution_count": 99,
   "metadata": {},
   "outputs": [
    {
     "name": "stdout",
     "output_type": "stream",
     "text": [
      "-0.036357505624914355\n",
      "9.309268311370472\n"
     ]
    }
   ],
   "source": [
    "lambda_ = float(input())\n",
    "print(np.log(rd.random()) / lambda_)\n",
    "print(rd.expovariate(1.0 / 4))"
   ]
  },
  {
   "cell_type": "markdown",
   "metadata": {},
   "source": [
    "## Простой процесс на simpy"
   ]
  },
  {
   "cell_type": "code",
   "execution_count": null,
   "metadata": {},
   "outputs": [
    {
     "name": "stdout",
     "output_type": "stream",
     "text": [
      "Start parking at 0\n",
      "Start driving at 5\n",
      "Start parking at 7\n",
      "Start driving at 12\n",
      "Start parking at 14\n"
     ]
    }
   ],
   "source": [
    "def car(env):\n",
    "    while True:\n",
    "        print(f'Start parking at {env.now}')\n",
    "        parking_duration = 5\n",
    "        yield env.timeout(parking_duration)\n",
    "\n",
    "        print(f'Start driving at {env.now}')\n",
    "        trip_duration = 2\n",
    "        yield env.timeout(trip_duration)\n",
    "\n",
    "env = simpy.Environment()\n",
    "env.process(car(env))\n",
    "env.run(until=15)"
   ]
  },
  {
   "cell_type": "markdown",
   "metadata": {},
   "source": [
    "## Запуск подпроцесса charge после парковки"
   ]
  },
  {
   "cell_type": "code",
   "execution_count": null,
   "metadata": {},
   "outputs": [
    {
     "name": "stdout",
     "output_type": "stream",
     "text": [
      "2391380788896 Start parking and charging at 0\n",
      "2391380787648 Start parking and charging at 0\n",
      "2391380788896 Start driving at 5\n",
      "2391380787648 Start driving at 5\n",
      "2391380788896 Start parking and charging at 7\n",
      "2391380787648 Start parking and charging at 7\n",
      "2391380788896 Start driving at 12\n",
      "2391380787648 Start driving at 12\n",
      "2391380788896 Start parking and charging at 14\n",
      "2391380787648 Start parking and charging at 14\n"
     ]
    }
   ],
   "source": [
    "class Car(object):\n",
    "    def __init__(self, env):\n",
    "        self.env = env\n",
    "        # Start the run process everytime an instance is created.\n",
    "        self.action = env.process(self.run())\n",
    "\n",
    "    def run(self):\n",
    "        while True:\n",
    "            print(f'{id(self)} Start parking and charging at {self.env.now}')\n",
    "            charge_duration = 5\n",
    "            # We yield the process that process() returns\n",
    "            # to wait for it to finish\n",
    "            yield self.env.process(self.charge(charge_duration))\n",
    "\n",
    "            # The charge process has finished and\n",
    "            # we can start driving again.\n",
    "            print(f'{id(self)} Start driving at {self.env.now}')\n",
    "            trip_duration = 2\n",
    "            yield self.env.timeout(trip_duration)\n",
    "\n",
    "    def charge(self, duration):\n",
    "        yield self.env.timeout(duration)\n",
    "\n",
    "env = simpy.Environment()\n",
    "car_1 = Car(env)\n",
    "car_2 = Car(env)\n",
    "env.run(until=15)"
   ]
  },
  {
   "cell_type": "markdown",
   "metadata": {},
   "source": [
    "## Прерывание другого процесса"
   ]
  },
  {
   "cell_type": "code",
   "execution_count": null,
   "metadata": {},
   "outputs": [
    {
     "name": "stdout",
     "output_type": "stream",
     "text": [
      "2390860442352 Start parking and charging at 0\n",
      "2391144724560 Start parking and charging at 0\n",
      "2390860442352 Was interrupted. Hope, the battery is full enough ...\n",
      "2390860442352 Start driving at 3\n",
      "2390860442352 Start parking and charging at 5\n",
      "2391144724560 Start driving at 5\n",
      "2391144724560 Start parking and charging at 7\n",
      "2390860442352 Start driving at 10\n",
      "2390860442352 Start parking and charging at 12\n",
      "2391144724560 Start driving at 12\n",
      "2391144724560 Start parking and charging at 14\n"
     ]
    }
   ],
   "source": [
    "class Car(object):\n",
    "    def __init__(self, env):\n",
    "        self.env = env\n",
    "        # Start the run process everytime an instance is created.\n",
    "        self.action = env.process(self.run())\n",
    "\n",
    "    def run(self):\n",
    "        while True:\n",
    "            print(f'{id(self)} Start parking and charging at {self.env.now}')\n",
    "            charge_duration = 5\n",
    "            # We may get interrupted while charging the battery\n",
    "            try:\n",
    "                yield self.env.process(self.charge(charge_duration))\n",
    "            except simpy.Interrupt:\n",
    "                # When we received an interrupt, we stop charging and\n",
    "                # switch to the \"driving\" state\n",
    "                print(f'{id(self)} Was interrupted. Hope, the battery is full enough ...')\n",
    "\n",
    "            # The charge process has finished and\n",
    "            # we can start driving again.\n",
    "            print(f'{id(self)} Start driving at {self.env.now}')\n",
    "            trip_duration = 2\n",
    "            yield self.env.timeout(trip_duration)\n",
    "\n",
    "    def charge(self, duration):\n",
    "        yield self.env.timeout(duration)\n",
    "\n",
    "\n",
    "def driver(env, car):\n",
    "    yield env.timeout(3)\n",
    "    car.action.interrupt()\n",
    "\n",
    "env = simpy.Environment()\n",
    "car_1 = Car(env)\n",
    "car_2 = Car(env)\n",
    "env.process(driver(env, car_1))\n",
    "env.run(until=15)"
   ]
  },
  {
   "cell_type": "markdown",
   "metadata": {},
   "source": [
    "## Использование ресурсов\n",
    "Добавляется устройство обслуживания с ёмкостью 2.\n",
    "Машины 1 и 2 начинают обслуживаться сразу же по прибытии, а 3 и 4 ожидают освобождения слотов для обслуживания."
   ]
  },
  {
   "cell_type": "code",
   "execution_count": 44,
   "metadata": {},
   "outputs": [
    {
     "name": "stdout",
     "output_type": "stream",
     "text": [
      "Car 1 arriving at 0\n",
      "Car 1 starting to charge at 0\n",
      "Car 2 arriving at 2\n",
      "Car 2 starting to charge at 2\n",
      "Car 3 arriving at 4\n",
      "Car 1 leaving the bcs at 5\n",
      "Car 3 starting to charge at 5\n",
      "Car 4 arriving at 6\n",
      "Car 2 leaving the bcs at 7\n",
      "Car 4 starting to charge at 7\n",
      "Car 3 leaving the bcs at 10\n",
      "Car 4 leaving the bcs at 12\n"
     ]
    }
   ],
   "source": [
    "def car(env, name, bcs, driving_time, charge_duration):\n",
    "    # Simulate driving to the BCS\n",
    "    yield env.timeout(driving_time)\n",
    "    # Request one of its charging spots\n",
    "    print(f'{name} arriving at {env.now}')\n",
    "    with bcs.request() as req:\n",
    "        yield req\n",
    "        # Charge the battery\n",
    "        print(f'{name} starting to charge at {env.now}')\n",
    "        yield env.timeout(charge_duration)\n",
    "        print(f'{name} leaving the bcs at {env.now}')\n",
    "\n",
    "env = simpy.Environment()\n",
    "bcs = simpy.Resource(env, capacity=2)\n",
    "for i in range(4):\n",
    "    env.process(car(env, f'Car {i+1}', bcs, i*2, 5))\n",
    "env.run()"
   ]
  },
  {
   "cell_type": "markdown",
   "metadata": {},
   "source": [
    "## Пример с банком\n",
    "В банке есть сотрудники, обслуживающие клиентов, и терминалы, выдающие талоны. Есть, соответственно два процесса: выдача талона и обслуживание клиента. "
   ]
  },
  {
   "cell_type": "code",
   "execution_count": 50,
   "metadata": {},
   "outputs": [],
   "source": [
    "class Bank(object):\n",
    "    def __init__(self, env, num_employee, num_terminal):\n",
    "        self.env = env\n",
    "        self.employee = simpy.Resource(env, num_employee)\n",
    "        self.terminal = simpy.Resource(env, num_terminal)\n",
    "\n",
    "    def service(self, customer):\n",
    "    # Обслуживание занимает время в интервале от 1 до 15 минут\n",
    "        yield self.env.timeout(rd.randint(1, 15))\n",
    "\n",
    "    def take_token(self, customer):\n",
    "    # Получение талона занимает до 45 секунд\n",
    "        yield self.env.timeout(45/60)"
   ]
  },
  {
   "cell_type": "markdown",
   "metadata": {},
   "source": [
    "Создадим функцию, которая будет отвечать за поведение клиента в среде:"
   ]
  },
  {
   "cell_type": "code",
   "execution_count": 51,
   "metadata": {},
   "outputs": [],
   "source": [
    "def go_to_bank(env, customer, bank):\n",
    "\t# Клиент пришел в банк\n",
    "\tarrival_time = env.now\n",
    "\t\n",
    "\twith bank.terminal.request() as request:\n",
    "\t\tyield request\n",
    "\t\tyield env.process(bank.take_token(customer))\n",
    "\n",
    "\twith bank.employee.request() as request:\n",
    "\t\tyield request\n",
    "\t\tyield env.process(bank.service(customer))\n",
    "\n",
    "\tglobal times\n",
    "\ttimes.append(env.now - arrival_time)"
   ]
  },
  {
   "cell_type": "markdown",
   "metadata": {},
   "source": [
    "Теперь необходимо создать функцию для запуска моделирования. Она будет отвечать за создание экземпляра банка и генерацию клиентов, до тех пор, пока симуляция не остановится:"
   ]
  },
  {
   "cell_type": "code",
   "execution_count": 52,
   "metadata": {},
   "outputs": [],
   "source": [
    "def run_bank(env, num_employee, num_terminal):\n",
    "\tbank = Bank(env, num_employee, num_terminal)\n",
    "\tcustomer = 1\n",
    "\t\n",
    "\tenv.process(go_to_bank(env, customer, bank))\n",
    "\t\n",
    "\twhile True:\n",
    "\t\t# Предположим каждые 4 минуты заходит новый клиент\n",
    "\t\tyield env.timeout(rd.expovariate(1.0 / 240))\n",
    "\t\tcustomer += 1\n",
    "\t\tenv.process(go_to_bank(env, customer, bank))"
   ]
  },
  {
   "cell_type": "markdown",
   "metadata": {},
   "source": [
    "Отдельно создадим функцию для подсчета среднего времени:"
   ]
  },
  {
   "cell_type": "code",
   "execution_count": 53,
   "metadata": {},
   "outputs": [],
   "source": [
    "def get_average_time(times):\n",
    "\taverage_time = np.mean(times)\n",
    "\tminutes, frac_minutes = divmod(average_time, 1)\n",
    "\tseconds = frac_minutes * 60\n",
    "\treturn round(minutes), round(seconds)"
   ]
  },
  {
   "cell_type": "markdown",
   "metadata": {},
   "source": [
    "Запустим моделирование:"
   ]
  },
  {
   "cell_type": "code",
   "execution_count": 54,
   "metadata": {},
   "outputs": [
    {
     "name": "stdout",
     "output_type": "stream",
     "text": [
      "\n",
      "Среднее время обслуживания: 1:45\n"
     ]
    }
   ],
   "source": [
    "rd.seed(42)\n",
    "# Начальные данные\n",
    "num_employee = 7 # В офисе работает 7 сотрудников\n",
    "num_terminal = 1 # В офисе 1 терминал по выдаче талонов\n",
    "times = []\n",
    "\n",
    "# Запуск моделирования\n",
    "env = simpy.Environment()\n",
    "env.process(run_bank(env, num_employee, num_terminal))\n",
    "env.run(until=72)\n",
    "\n",
    "# Результаты\n",
    "mins, secs = get_average_time(times)\n",
    "print(f'\\nСреднее время обслуживания: {mins}:{secs}')"
   ]
  },
  {
   "cell_type": "markdown",
   "metadata": {},
   "source": [
    "## СМО M/M/1"
   ]
  },
  {
   "cell_type": "code",
   "execution_count": 80,
   "metadata": {},
   "outputs": [],
   "source": [
    "class System(object):\n",
    "    def __init__(self, env, num_services, mu):\n",
    "        self.env = env\n",
    "        self.server = simpy.Resource(env, num_services)\n",
    "        self.mu = mu\n",
    "\n",
    "    def service(self, demand):\n",
    "        # yield self.env.timeout(rd.expovariate(self.mu))\n",
    "        yield self.env.timeout(env.now - math.log(rd.random()) / mu)\n",
    "        global cnt_demands\n",
    "        cnt_demands.append(self.server.count - 1)\n",
    "        print(f'Требование {demand} обслужено в {self.env.now}')"
   ]
  },
  {
   "cell_type": "code",
   "execution_count": 81,
   "metadata": {},
   "outputs": [],
   "source": [
    "def go_to_system(env, demand, system):\n",
    "\t# требование пришло в систему\n",
    "\tarrival_time = env.now\n",
    "\t\n",
    "\twith system.server.request() as request:\n",
    "\t\tyield request\n",
    "\t\tyield env.process(system.service(demand))\n",
    "\n",
    "\tglobal times\n",
    "\ttimes.append(env.now - arrival_time)"
   ]
  },
  {
   "cell_type": "code",
   "execution_count": 82,
   "metadata": {},
   "outputs": [],
   "source": [
    "def run_system(env, num_services, lambda_, mu):\n",
    "\tsystem = System(env, num_services, mu)\n",
    "\tdemand = 1\n",
    "\tprint(f'Требование {demand} поступило в {env.now}')\n",
    "\tenv.process(go_to_system(env, demand, system))\n",
    "\tglobal cnt_demands\n",
    "\tcnt_demands.append(system.server.count + 1)\n",
    "\t\n",
    "\twhile True:\n",
    "\t\t# yield env.timeout(rd.expovariate(lambda_))\n",
    "\t\tyield env.timeout(env.now - math.log(rd.random()) / lambda_)\n",
    "\t\tcnt_demands.append(system.server.count + 1)\n",
    "\t\tdemand += 1\n",
    "\t\tprint(f'Требование {demand} поступило в {env.now}')\n",
    "\t\tenv.process(go_to_system(env, demand, system))"
   ]
  },
  {
   "cell_type": "code",
   "execution_count": 83,
   "metadata": {},
   "outputs": [
    {
     "name": "stdout",
     "output_type": "stream",
     "text": [
      "Требование 1 поступило в 0\n",
      "Требование 1 обслужено в 0.8796382532485553\n",
      "Требование 2 поступило в 3.4032187365919913\n",
      "\n",
      "Среднее время обслуживания: 0.8796382532485553\n",
      "[1, 0, 1]\n",
      "Число требований в системе: 0.6666666666666666\n",
      "Требование 1 поступило в 0\n",
      "Требование 1 обслужено в 0.029598364990971796\n",
      "Требование 2 поступило в 1.1799647518578966\n",
      "Требование 3 поступило в 2.87357687340492\n",
      "Требование 2 обслужено в 3.2716572238149686\n",
      "\n",
      "Среднее время обслуживания: 1.0606454184740217\n",
      "[1, 0, 1, 2, 1]\n",
      "Число требований в системе: 1.0\n",
      "Требование 1 поступило в 0\n",
      "Требование 1 обслужено в 0.2784720904133938\n",
      "Требование 2 поступило в 1.0167284127612082\n",
      "Требование 2 обслужено в 2.6913482914369293\n",
      "Требование 3 поступило в 2.9643293191356515\n",
      "\n",
      "Среднее время обслуживания: 0.9765459845445574\n",
      "[1, 0, 1, 0, 1]\n",
      "Число требований в системе: 0.6\n",
      "Требование 1 поступило в 0\n",
      "Требование 2 поступило в 0.16425566780313522\n",
      "Требование 1 обслужено в 0.6467448879027308\n",
      "Требование 2 обслужено в 1.0516833069205087\n",
      "Требование 3 поступило в 1.5503794831056068\n",
      "Требование 3 обслужено в 3.5503555080919895\n",
      "Требование 4 поступило в 3.626762275385545\n",
      "\n",
      "Среднее время обслуживания: 1.1780495173354957\n",
      "[1, 2, 1, 0, 1, 0, 1]\n",
      "Число требований в системе: 0.8571428571428571\n",
      "Требование 1 поступило в 0\n",
      "Требование 1 обслужено в 1.9131211964743418\n",
      "Требование 2 поступило в 2.147070455360352\n",
      "Требование 3 поступило в 4.652012290195329\n",
      "\n",
      "Среднее время обслуживания: 1.9131211964743418\n",
      "[1, 0, 1, 2]\n",
      "Число требований в системе: 1.0\n",
      "Требование 1 поступило в 0\n",
      "Требование 2 поступило в 1.331113617193385\n",
      "Требование 1 обслужено в 1.5265952577515847\n",
      "Требование 2 обслужено в 2.989266983053862\n",
      "Требование 3 поступило в 4.6788806554702465\n",
      "\n",
      "Среднее время обслуживания: 1.5923743118060307\n",
      "[1, 2, 1, 0, 1]\n",
      "Число требований в системе: 1.0\n",
      "Требование 1 поступило в 0\n",
      "Требование 1 обслужено в 0.5892775494323099\n",
      "Требование 2 поступило в 0.6163065894325788\n",
      "Требование 2 обслужено в 1.4755955258641953\n",
      "Требование 3 поступило в 3.0825207146662112\n",
      "\n",
      "Среднее время обслуживания: 0.7242832429319632\n",
      "[1, 0, 1, 0, 1]\n",
      "Число требований в системе: 0.6\n",
      "Требование 1 поступило в 0\n",
      "Требование 1 обслужено в 0.34738047819046264\n",
      "Требование 2 поступило в 1.088940939584216\n",
      "Требование 2 обслужено в 2.248812210607948\n",
      "Требование 3 поступило в 2.4318555599921403\n",
      "Требование 3 обслужено в 4.975217334203691\n",
      "\n",
      "Среднее время обслуживания: 1.3502045078085818\n",
      "[1, 0, 1, 0, 1, 0]\n",
      "Число требований в системе: 0.5\n",
      "Требование 1 поступило в 0\n",
      "Требование 2 поступило в 0.9604028068931048\n",
      "Требование 2 обслужено в 2.2878235985427624\n",
      "Требование 1 обслужено в 2.405356220003955\n",
      "Требование 3 поступило в 2.629502959060895\n",
      "\n",
      "Среднее время обслуживания: 1.8663885058268064\n",
      "[1, 2, 1, 0, 1]\n",
      "Число требований в системе: 1.0\n",
      "Требование 1 поступило в 0\n",
      "Требование 2 поступило в 0.7944176936496694\n",
      "Требование 1 обслужено в 0.8979054237065097\n",
      "Требование 3 поступило в 1.9532591553982734\n",
      "Требование 2 обслужено в 2.1658125251235\n",
      "Требование 4 поступило в 3.967858138363864\n",
      "Требование 3 обслужено в 4.030521259972011\n",
      "\n",
      "Среднее время обслуживания: 1.4488541199180258\n",
      "[1, 2, 1, 2, 1, 2, 1]\n",
      "Число требований в системе: 1.4285714285714286\n",
      "1.299010505836838\n",
      "0.8652380952380951\n"
     ]
    }
   ],
   "source": [
    "cnt = 10\n",
    "all_times = []\n",
    "all_demands = []\n",
    "for _ in range(cnt):\n",
    "    # Начальные данные\n",
    "    num_services = 2 # число приборов\n",
    "    lambda_ = 1\n",
    "    mu = 2\n",
    "    times = []\n",
    "    cnt_demands = []\n",
    "\n",
    "    # Запуск моделирования\n",
    "    env = simpy.Environment()\n",
    "    env.process(run_system(env, num_services, lambda_, mu))\n",
    "    env.run(until=5)\n",
    "\n",
    "    # Результаты\n",
    "    average_time = np.mean(times)\n",
    "    print(f'\\nСреднее время обслуживания: {average_time}')\n",
    "    average_cnt = np.mean(cnt_demands)\n",
    "    print(cnt_demands)\n",
    "    print(f'Число требований в системе: {average_cnt}')\n",
    "    all_times.append(average_time)\n",
    "    all_demands.append(average_cnt)\n",
    "print(np.mean(all_times))\n",
    "print(np.mean(all_demands))"
   ]
  },
  {
   "cell_type": "code",
   "execution_count": 3,
   "metadata": {},
   "outputs": [
    {
     "name": "stdout",
     "output_type": "stream",
     "text": [
      "1 2 \n",
      " 3228726582096 3228726582864\n",
      "3 2 \n",
      " 3228726580704 3228726582864\n"
     ]
    }
   ],
   "source": [
    "class First:\n",
    "    def __init__(self, id):\n",
    "        self.id = id\n",
    "\n",
    "first = First(1)\n",
    "second = First(2)\n",
    "\n",
    "print(first.id, second.id, '\\n', id(first), id(second))\n",
    "\n",
    "first = First(3)\n",
    "print(first.id, second.id, '\\n', id(first), id(second))"
   ]
  },
  {
   "cell_type": "code",
   "execution_count": 8,
   "metadata": {},
   "outputs": [],
   "source": [
    "f = open('out.txt', 'a')\n",
    "f.write('abc')\n",
    "f.close()\n",
    "f = open('out.txt', 'a')\n",
    "f.write('I ate your string')\n",
    "f.close()"
   ]
  },
  {
   "cell_type": "code",
   "execution_count": 5,
   "metadata": {},
   "outputs": [
    {
     "name": "stdout",
     "output_type": "stream",
     "text": [
      "some shit happens\n"
     ]
    },
    {
     "ename": "KeyboardInterrupt",
     "evalue": "",
     "output_type": "error",
     "traceback": [
      "\u001b[1;31m---------------------------------------------------------------------------\u001b[0m",
      "\u001b[1;31mKeyboardInterrupt\u001b[0m                         Traceback (most recent call last)",
      "\u001b[1;32me:\\NoCode\\AirportSimModel\\misc.ipynb Cell 30'\u001b[0m in \u001b[0;36m<cell line: 9>\u001b[1;34m()\u001b[0m\n\u001b[0;32m      <a href='vscode-notebook-cell:/e%3A/NoCode/AirportSimModel/misc.ipynb#ch0000029?line=5'>6</a>\u001b[0m     \u001b[39mprint\u001b[39m(line)\n\u001b[0;32m      <a href='vscode-notebook-cell:/e%3A/NoCode/AirportSimModel/misc.ipynb#ch0000029?line=6'>7</a>\u001b[0m f\u001b[39m.\u001b[39mclose()\n\u001b[1;32m----> <a href='vscode-notebook-cell:/e%3A/NoCode/AirportSimModel/misc.ipynb#ch0000029?line=8'>9</a>\u001b[0m f \u001b[39m=\u001b[39m \u001b[39mopen\u001b[39;49m(\u001b[39m'\u001b[39;49m\u001b[39mtest.txt\u001b[39;49m\u001b[39m'\u001b[39;49m, \u001b[39m'\u001b[39;49m\u001b[39ma\u001b[39;49m\u001b[39m'\u001b[39;49m)\n\u001b[0;32m     <a href='vscode-notebook-cell:/e%3A/NoCode/AirportSimModel/misc.ipynb#ch0000029?line=9'>10</a>\u001b[0m f\u001b[39m.\u001b[39mwrite(\u001b[39m'\u001b[39m\u001b[39m\\n\u001b[39;00m\u001b[39mbut we must stand\u001b[39m\u001b[39m'\u001b[39m)\n\u001b[0;32m     <a href='vscode-notebook-cell:/e%3A/NoCode/AirportSimModel/misc.ipynb#ch0000029?line=10'>11</a>\u001b[0m f\u001b[39m.\u001b[39mclose()\n",
      "File \u001b[1;32mc:\\Users\\Admin\\AppData\\Local\\Programs\\Python\\Python310\\lib\\codecs.py:186\u001b[0m, in \u001b[0;36mIncrementalEncoder.__init__\u001b[1;34m(self, errors)\u001b[0m\n\u001b[0;32m    <a href='file:///c%3A/Users/Admin/AppData/Local/Programs/Python/Python310/lib/codecs.py?line=179'>180</a>\u001b[0m \u001b[39mclass\u001b[39;00m \u001b[39mIncrementalEncoder\u001b[39;00m(\u001b[39mobject\u001b[39m):\n\u001b[0;32m    <a href='file:///c%3A/Users/Admin/AppData/Local/Programs/Python/Python310/lib/codecs.py?line=180'>181</a>\u001b[0m     \u001b[39m\"\"\"\u001b[39;00m\n\u001b[0;32m    <a href='file:///c%3A/Users/Admin/AppData/Local/Programs/Python/Python310/lib/codecs.py?line=181'>182</a>\u001b[0m \u001b[39m    An IncrementalEncoder encodes an input in multiple steps. The input can\u001b[39;00m\n\u001b[0;32m    <a href='file:///c%3A/Users/Admin/AppData/Local/Programs/Python/Python310/lib/codecs.py?line=182'>183</a>\u001b[0m \u001b[39m    be passed piece by piece to the encode() method. The IncrementalEncoder\u001b[39;00m\n\u001b[0;32m    <a href='file:///c%3A/Users/Admin/AppData/Local/Programs/Python/Python310/lib/codecs.py?line=183'>184</a>\u001b[0m \u001b[39m    remembers the state of the encoding process between calls to encode().\u001b[39;00m\n\u001b[0;32m    <a href='file:///c%3A/Users/Admin/AppData/Local/Programs/Python/Python310/lib/codecs.py?line=184'>185</a>\u001b[0m \u001b[39m    \"\"\"\u001b[39;00m\n\u001b[1;32m--> <a href='file:///c%3A/Users/Admin/AppData/Local/Programs/Python/Python310/lib/codecs.py?line=185'>186</a>\u001b[0m     \u001b[39mdef\u001b[39;00m \u001b[39m__init__\u001b[39m(\u001b[39mself\u001b[39m, errors\u001b[39m=\u001b[39m\u001b[39m'\u001b[39m\u001b[39mstrict\u001b[39m\u001b[39m'\u001b[39m):\n\u001b[0;32m    <a href='file:///c%3A/Users/Admin/AppData/Local/Programs/Python/Python310/lib/codecs.py?line=186'>187</a>\u001b[0m         \u001b[39m\"\"\"\u001b[39;00m\n\u001b[0;32m    <a href='file:///c%3A/Users/Admin/AppData/Local/Programs/Python/Python310/lib/codecs.py?line=187'>188</a>\u001b[0m \u001b[39m        Creates an IncrementalEncoder instance.\u001b[39;00m\n\u001b[0;32m    <a href='file:///c%3A/Users/Admin/AppData/Local/Programs/Python/Python310/lib/codecs.py?line=188'>189</a>\u001b[0m \n\u001b[1;32m   (...)\u001b[0m\n\u001b[0;32m    <a href='file:///c%3A/Users/Admin/AppData/Local/Programs/Python/Python310/lib/codecs.py?line=191'>192</a>\u001b[0m \u001b[39m        for a list of possible values.\u001b[39;00m\n\u001b[0;32m    <a href='file:///c%3A/Users/Admin/AppData/Local/Programs/Python/Python310/lib/codecs.py?line=192'>193</a>\u001b[0m \u001b[39m        \"\"\"\u001b[39;00m\n\u001b[0;32m    <a href='file:///c%3A/Users/Admin/AppData/Local/Programs/Python/Python310/lib/codecs.py?line=193'>194</a>\u001b[0m         \u001b[39mself\u001b[39m\u001b[39m.\u001b[39merrors \u001b[39m=\u001b[39m errors\n",
      "File \u001b[1;32m_pydevd_bundle/pydevd_cython.pyx:1366\u001b[0m, in \u001b[0;36m_pydevd_bundle.pydevd_cython.SafeCallWrapper.__call__\u001b[1;34m()\u001b[0m\n",
      "File \u001b[1;32m_pydevd_bundle/pydevd_cython.pyx:1667\u001b[0m, in \u001b[0;36m_pydevd_bundle.pydevd_cython.ThreadTracer.__call__\u001b[1;34m()\u001b[0m\n",
      "File \u001b[1;32mc:\\Users\\Admin\\AppData\\Local\\Programs\\Python\\Python310\\lib\\site-packages\\debugpy\\_vendored\\pydevd\\_pydev_bundle\\pydev_is_thread_alive.py:9\u001b[0m, in \u001b[0;36mis_thread_alive\u001b[1;34m(t)\u001b[0m\n\u001b[0;32m      <a href='file:///c%3A/Users/Admin/AppData/Local/Programs/Python/Python310/lib/site-packages/debugpy/_vendored/pydevd/_pydev_bundle/pydev_is_thread_alive.py?line=5'>6</a>\u001b[0m _temp \u001b[39m=\u001b[39m threading\u001b[39m.\u001b[39mThread()\n\u001b[0;32m      <a href='file:///c%3A/Users/Admin/AppData/Local/Programs/Python/Python310/lib/site-packages/debugpy/_vendored/pydevd/_pydev_bundle/pydev_is_thread_alive.py?line=6'>7</a>\u001b[0m \u001b[39mif\u001b[39;00m \u001b[39mhasattr\u001b[39m(_temp, \u001b[39m'\u001b[39m\u001b[39m_is_stopped\u001b[39m\u001b[39m'\u001b[39m):  \u001b[39m# Python 3.x has this\u001b[39;00m\n\u001b[1;32m----> <a href='file:///c%3A/Users/Admin/AppData/Local/Programs/Python/Python310/lib/site-packages/debugpy/_vendored/pydevd/_pydev_bundle/pydev_is_thread_alive.py?line=8'>9</a>\u001b[0m     \u001b[39mdef\u001b[39;00m \u001b[39mis_thread_alive\u001b[39m(t):\n\u001b[0;32m     <a href='file:///c%3A/Users/Admin/AppData/Local/Programs/Python/Python310/lib/site-packages/debugpy/_vendored/pydevd/_pydev_bundle/pydev_is_thread_alive.py?line=9'>10</a>\u001b[0m         \u001b[39mreturn\u001b[39;00m \u001b[39mnot\u001b[39;00m t\u001b[39m.\u001b[39m_is_stopped\n\u001b[0;32m     <a href='file:///c%3A/Users/Admin/AppData/Local/Programs/Python/Python310/lib/site-packages/debugpy/_vendored/pydevd/_pydev_bundle/pydev_is_thread_alive.py?line=11'>12</a>\u001b[0m \u001b[39melif\u001b[39;00m \u001b[39mhasattr\u001b[39m(_temp, \u001b[39m'\u001b[39m\u001b[39m_Thread__stopped\u001b[39m\u001b[39m'\u001b[39m):  \u001b[39m# Python 2.x has this\u001b[39;00m\n",
      "\u001b[1;31mKeyboardInterrupt\u001b[0m: "
     ]
    }
   ],
   "source": [
    "f = open('test.txt', 'w')\n",
    "f.write('some shit happens')\n",
    "f.close()\n",
    "f = open('test.txt', 'r')\n",
    "for line in f:\n",
    "    print(line)\n",
    "f.close()\n",
    "\n",
    "f = open('test.txt', 'a')\n",
    "f.write('\\nbut we must stand')\n",
    "f.close()\n",
    "f = open('test.txt', 'r')\n",
    "for line in f:\n",
    "    print(line)\n",
    "f.close()"
   ]
  },
  {
   "cell_type": "code",
   "execution_count": null,
   "metadata": {},
   "outputs": [],
   "source": [
    "if __name__ == \"__main__\":\n",
    "    import sys\n",
    "    app = QtWidgets.QApplication(sys.argv)\n",
    "    MainWindow = QtWidgets.QMainWindow()\n",
    "    ui = Ui_MainWindow()\n",
    "    ui.setupUi(MainWindow)\n",
    "    MainWindow.show()\n",
    "    sys.exit(app.exec())"
   ]
  },
  {
   "cell_type": "code",
   "execution_count": 3,
   "metadata": {},
   "outputs": [
    {
     "data": {
      "text/plain": [
       "[1, 2]"
      ]
     },
     "execution_count": 3,
     "metadata": {},
     "output_type": "execute_result"
    }
   ],
   "source": [
    "a = [1, 2, 3, 4]\n",
    "a[:2]"
   ]
  }
 ],
 "metadata": {
  "interpreter": {
   "hash": "a42ccb73e7d9bfdf27e036f1d2b8b681e55fc0743cc5586bc2474d4a60f4b886"
  },
  "kernelspec": {
   "display_name": "Python 3.10.4 64-bit",
   "language": "python",
   "name": "python3"
  },
  "language_info": {
   "codemirror_mode": {
    "name": "ipython",
    "version": 3
   },
   "file_extension": ".py",
   "mimetype": "text/x-python",
   "name": "python",
   "nbconvert_exporter": "python",
   "pygments_lexer": "ipython3",
   "version": "3.10.4"
  },
  "orig_nbformat": 4
 },
 "nbformat": 4,
 "nbformat_minor": 2
}
